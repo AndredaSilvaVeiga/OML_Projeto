{
  "metadata": {
    "kernelspec": {
      "name": "python",
      "display_name": "Python (Pyodide)",
      "language": "python"
    },
    "language_info": {
      "codemirror_mode": {
        "name": "python",
        "version": 3
      },
      "file_extension": ".py",
      "mimetype": "text/x-python",
      "name": "python",
      "nbconvert_exporter": "python",
      "pygments_lexer": "ipython3",
      "version": "3.8"
    }
  },
  "nbformat_minor": 5,
  "nbformat": 4,
  "cells": [
    {
      "id": "9d6c350b-34f0-4380-94a4-69106256f856",
      "cell_type": "markdown",
      "source": "MINI-BATCH",
      "metadata": {}
    },
    {
      "id": "0412ce51-6aeb-4067-a0e6-7f4f71dc0d82",
      "cell_type": "code",
      "source": "import numpy as np\nimport matplotlib.pyplot as plt\n\nX = np.array([[0.0, 0.5],[1.7, 0.2],[2.3, 1.5],[3.0, 3.0],[3.4, 4.0],[3.2, 5.2],[0.6, 5.5],[2.0, 4.0],[2.6, 3.0],[1.2,3.7],\n              [4.9, 0.3],[4.7, 1.7],[5.3, 5],[5.5, 0.3],[6.4, 2],[6.9, 4.7],[5.1, 5.2],[7.0, 1.0],[8, 1.9],[7.6, 3.3],\n              [0.5, 7.3],[1.7, 9.7],[1.3, 7.1],[2.5, 7.7],[3.4, 8],[3.9, 7.9],[4.1, 8.4],[7.0, 9.3],[6, 8.6],[5.6, 7.9],\n])\n\nBD = np.array([[0.0, 0.5],[1.7, 0.2],[2.3, 1.5],[3.0, 3.0],[3.4, 4.0],[3.2, 5.2],[0.6, 5.5],[2.0, 4.0],[2.6, 3.0],[1.2,3.7],\n            [1.47, 1.33],[1.84, 1.48],[1.45, 1.65],[2.47, 1.75],[2.11, 1.79],[1.95, 2.05],[2.37, 1.97],[2.07, 1.82],[1.18, 2.31],[1.14, 2.38],\n            [2.15, 1.16],[1.03, 2.22],[2.53, 2.30],[1.92, 1.23],[2.53, 1.70],[1.34, 1.39],[2.37, 1.74],[2.16, 2.46],[1.40, 1.89],[1.51, 1.48],\n            [2.26, 1.87],[2.88, 2.41],[1.90, 1.26],[2.12, 2.19],[1.77, 2.59],[2.33, 1.27],[2.52, 1.22],[2.12, 2.63],[1.68, 2.43],[1.11, 1.64],\n            [2.50, 2.01],[1.85, 1.63],[2.41, 2.51],[1.76, 2.82],[1.48, 2.41],[2.52, 2.24],[2.22, 1.87],[1.70, 2.36],[2.37, 1.68],[2.27, 2.69],\n            [1.53, 1.31],[1.64, 2.66],[1.75, 2.63],[1.49, 2.58],[1.12, 2.02],[2.08, 2.88],[1.12, 1.54],[2.34, 1.90],[2.34, 2.70],[2.12, 2.73],\n             [4.9, 0.3],[4.7, 1.7],[5.3, 5],[5.5, 3.9],[6.4, 2],[6.9, 4.7],[5.1, 5.2],[7.0, 1.0],[8, 1.9],[7.6, 3.3],\n            [7.95, 2.29],[7.19, 1.20],[7.12, 1.13],[7.34, 2.85],[6.28, 1.60],[6.89, 2.16],[6.54, 1.66],[6.74, 1.82],[7.46, 2.27],[6.81, 1.85],\n            [6.45, 1.22],[6.77, 2.39],[6.18, 1.46],[6.26, 2.67],[7.41, 1.13],[7.33, 1.52],[6.28, 2.67],[7.68, 2.20],[6.94, 1.44],[7.52, 2.01],\n            [7.02, 2.79],[6.21, 2.13],[7.48, 1.24],[6.98, 2.25],[6.64, 2.06],[6.09, 2.29],[6.25, 1.65],[6.15, 2.29],[6.13, 1.59],[6.17, 2.02],\n            [6.49, 1.76],[6.83, 2.43],[6.14, 2.30],[6.77, 2.18],[6.90, 2.94],[7.37, 1.24],[6.85, 2.37],[7.74, 2.38],[6.53, 2.48],[6.26, 2.11],\n            [7.80, 2.16],[6.94, 2.23],[6.38, 2.42],[6.37, 2.29],[7.93, 2.23],[6.93, 1.22],[7.43, 2.79],[7.40, 2.71],[7.03, 2.95],[6.43, 1.99],\n               [0.5, 7.3],[1.7, 9.7],[1.3, 7.1],[2.5, 7.7],[3.4, 8],[3.9, 7.9],[4.1, 8.4],[7.0, 9.3],[6, 8.6],[5.6, 7.9],\n            [3.79, 9.92],[4.56, 8.21],[3.65, 8.54],[3.91, 8.51],[3.46, 9.56],[3.93, 9.95],[3.09, 8.80],[3.38, 9.35],[3.59, 8.26],[3.61, 8.17],\n            [4.05, 8.54],[3.83, 8.27],[3.28, 8.97],[4.43, 8.61],[4.42, 9.45],[3.88, 8.21],[3.80, 8.31],[3.64, 8.66],[4.16, 8.88],[4.10, 9.24],\n            [4.59, 8.32],[3.96, 9.04],[4.00, 9.23],[3.36, 8.90],[3.75, 8.04],[4.82, 9.10],[4.22, 8.04],[3.69, 9.64],[3.69, 8.29],[4.68, 9.51],\n            [4.59, 8.93],[4.93, 8.66],[4.30, 8.15],[4.32, 8.57],[4.37, 9.90],[4.11, 8.89],[3.27, 8.78],[4.01, 9.54],[3.40, 8.71],[4.10, 8.78],\n            [3.74, 9.11],[3.24, 8.78],[4.30, 9.71],[4.10, 8.75],[4.72, 8.38],[3.90, 9.48],[3.29, 9.30],[3.30, 8.33],[3.86, 8.56],[4.69, 9.47]])\n\ny = np.array([\n    0, 0, 0, 0, 0, 0, 0, 0, 0, 0,0, 0, 0, 0, 0, 0, 0, 0, 0, 0,0, 0, 0, 0, 0, 0, 0, 0, 0, 0,0, 0, 0, 0, 0, 0, 0, 0, 0, 0,0, 0, 0, 0, 0, 0, 0, 0, 0, 0,\n    0, 0, 0, 0, 0, 0, 0, 0, 0, 0,\n    1, 1, 1, 1, 1, 1, 1, 1, 1, 1,1, 1, 1, 1, 1, 1, 1, 1, 1, 1,1, 1, 1, 1, 1, 1, 1, 1, 1, 1,1, 1, 1, 1, 1, 1, 1, 1, 1, 1,1, 1, 1, 1, 1, 1, 1, 1, 1, 1,\n    1, 1, 1, 1, 1, 1, 1, 1, 1, 1,\n    2, 2, 2, 2, 2, 2, 2, 2, 2, 2,2, 2, 2, 2, 2, 2, 2, 2, 2, 2, 2, 2, 2, 2, 2, 2, 2, 2, 2, 2, 2, 2, 2, 2, 2, 2, 2, 2, 2, 2, 2, 2, 2, 2, 2, 2, 2, 2, 2, 2,\n    2, 2, 2, 2, 2, 2, 2, 2, 2, 2\n])\n\n\n",
      "metadata": {
        "trusted": true
      },
      "outputs": [
        {
          "name": "stderr",
          "output_type": "stream",
          "text": "Matplotlib is building the font cache; this may take a moment.\n"
        }
      ],
      "execution_count": 1
    },
    {
      "id": "69d124c1-fb4f-408e-b467-5dba9f671a7a",
      "cell_type": "code",
      "source": "import numpy as np\n\nclass LogisticRegBinaryMiniBatch:\n    def __init__(self, lr=0.1, max_iter=1000, batch_size=32):\n        self.lr = lr\n        self.max_iter = max_iter\n        self.batch_size = batch_size\n        self.w = None\n        self.b = None\n\n    def sigmoid(self, z):\n        return 1 / (1 + np.exp(-z))\n\n    def fit(self, X, y):\n        n_samples, n_features = X.shape\n        self.w = np.zeros(n_features)\n        self.b = 0\n\n        for _ in range(self.max_iter):\n            indices = np.random.permutation(n_samples)\n            X_shuffled = X[indices]\n            y_shuffled = y[indices]\n\n            for start in range(0, n_samples, self.batch_size):\n                end = start + self.batch_size\n                X_batch = X_shuffled[start:end]\n                y_batch = y_shuffled[start:end]\n\n                linear = np.dot(X_batch, self.w) + self.b\n                predictions = self.sigmoid(linear)\n\n                dw = (1 / X_batch.shape[0]) * np.dot(X_batch.T, (predictions - y_batch))\n                db = (1 / X_batch.shape[0]) * np.sum(predictions - y_batch)\n\n                self.w -= self.lr * dw\n                self.b -= self.lr * db\n\n    def predict_proba(self, X):\n        linear = np.dot(X, self.w) + self.b\n        return self.sigmoid(linear)\n\n    def predict(self, X):\n        return (self.predict_proba(X) >= 0.5).astype(int)\n",
      "metadata": {
        "trusted": true
      },
      "outputs": [],
      "execution_count": 3
    },
    {
      "id": "d57b8b5d-32d9-42e6-8ac8-00c3f15be3df",
      "cell_type": "markdown",
      "source": "ECOC",
      "metadata": {}
    },
    {
      "id": "674144d9-a000-4af1-8681-a081435030d3",
      "cell_type": "code",
      "source": "class ECOCClassifier:\n    def __init__(self, code_matrix, lr=0.1, max_iter=100, batch_size=16):\n        self.code_matrix = code_matrix\n        self.lr = lr\n        self.max_iter = max_iter\n        self.batch_size = batch_size\n        self.classifiers = []\n\n    def fit(self, X, y):\n        n_classes, n_codes = self.code_matrix.shape\n        self.classifiers = []\n\n        for col in range(n_codes):\n            binary_labels = np.array([self.code_matrix[label, col] for label in y])\n            clf = LogisticRegBinaryMiniBatch(lr=self.lr, max_iter=self.max_iter, batch_size=self.batch_size)\n            clf.fit(X, binary_labels)\n            self.classifiers.append(clf)\n\n    def predict(self, X):\n        predictions = []\n        for clf in self.classifiers:\n            pred = clf.predict(X)\n            predictions.append(pred)\n        predictions = np.array(predictions).T  # (n_samples, n_codes)\n\n        final_preds = []\n        for row in predictions:\n            distances = [np.sum(row != code) for code in self.code_matrix]\n            final_preds.append(np.argmin(distances))\n        return final_preds\n",
      "metadata": {
        "trusted": true
      },
      "outputs": [],
      "execution_count": 1
    },
    {
      "id": "9bb6b3aa-bb24-420f-99fd-c00dd137134f",
      "cell_type": "code",
      "source": "import numpy as np\nimport matplotlib.pyplot as plt\n\ncode_matrix = np.array([\n    [0,  1,  1],\n    [ 1, 0,  1],\n    [ 1,  1, 0]\n])\n\necoc = ECOCClassifier(code_matrix, lr=0.1, max_iter=15000, batch_size=25)\necoc.fit(BD, y)\n\ny_pred = ecoc.predict(X)\npreds = [int(x) for x in y_pred]\nprint(\"Preditos:\", preds)\n\n\ndef plot_decision_boundaries(BD, y, model, title=\"Decision Boundaries\"):\n    # Create a mesh \n    x_min, x_max = BD[:, 0].min() - .5, BD[:, 0].max() + .5\n    y_min, y_max = BD[:, 1].min() - .5, BD[:, 1].max() + .5\n    h = 0.02 \n\n    xx, yy = np.meshgrid(np.arange(x_min, x_max, h),\n                         np.arange(y_min, y_max, h))\n\n    # Predict each point in mesh\n    Z = model.predict(np.c_[xx.ravel(), yy.ravel()])\n    Z = np.array(Z).reshape(xx.shape)\n\n    plt.figure(figsize=(8,6))\n    plt.contourf(xx, yy, Z, alpha=0.4, cmap=plt.cm.RdYlBu)\n    plt.scatter(BD[:, 0], BD[:, 1], c=y, edgecolor='k', cmap=plt.cm.RdYlBu)\n    plt.title(title)\n    plt.xlabel('Feature 1')\n    plt.ylabel('Feature 2')\n    plt.show()\n    \nplot_decision_boundaries(BD, y, ecoc, title=\"ECOC Classifier Decision Boundaries\")\n",
      "metadata": {
        "trusted": true
      },
      "outputs": [
        {
          "name": "stderr",
          "output_type": "stream",
          "text": "Matplotlib is building the font cache; this may take a moment.\n"
        },
        {
          "ename": "<class 'NameError'>",
          "evalue": "name 'BD' is not defined",
          "traceback": [
            "\u001b[0;31m---------------------------------------------------------------------------\u001b[0m",
            "\u001b[0;31mNameError\u001b[0m                                 Traceback (most recent call last)",
            "Cell \u001b[0;32mIn[2], line 11\u001b[0m\n\u001b[1;32m      4\u001b[0m code_matrix \u001b[38;5;241m=\u001b[39m np\u001b[38;5;241m.\u001b[39marray([\n\u001b[1;32m      5\u001b[0m     [\u001b[38;5;241m0\u001b[39m,  \u001b[38;5;241m1\u001b[39m,  \u001b[38;5;241m1\u001b[39m],\n\u001b[1;32m      6\u001b[0m     [ \u001b[38;5;241m1\u001b[39m, \u001b[38;5;241m0\u001b[39m,  \u001b[38;5;241m1\u001b[39m],\n\u001b[1;32m      7\u001b[0m     [ \u001b[38;5;241m1\u001b[39m,  \u001b[38;5;241m1\u001b[39m, \u001b[38;5;241m0\u001b[39m]\n\u001b[1;32m      8\u001b[0m ])\n\u001b[1;32m     10\u001b[0m ecoc \u001b[38;5;241m=\u001b[39m ECOCClassifier(code_matrix, lr\u001b[38;5;241m=\u001b[39m\u001b[38;5;241m0.1\u001b[39m, max_iter\u001b[38;5;241m=\u001b[39m\u001b[38;5;241m15000\u001b[39m, batch_size\u001b[38;5;241m=\u001b[39m\u001b[38;5;241m25\u001b[39m)\n\u001b[0;32m---> 11\u001b[0m ecoc\u001b[38;5;241m.\u001b[39mfit(\u001b[43mBD\u001b[49m, y)\n\u001b[1;32m     13\u001b[0m y_pred \u001b[38;5;241m=\u001b[39m ecoc\u001b[38;5;241m.\u001b[39mpredict(X)\n\u001b[1;32m     14\u001b[0m preds \u001b[38;5;241m=\u001b[39m [\u001b[38;5;28mint\u001b[39m(x) \u001b[38;5;28;01mfor\u001b[39;00m x \u001b[38;5;129;01min\u001b[39;00m y_pred]\n",
            "\u001b[0;31mNameError\u001b[0m: name 'BD' is not defined"
          ],
          "output_type": "error"
        }
      ],
      "execution_count": 2
    },
    {
      "id": "9b7d14b5-4007-4d5d-8419-96ee1e390941",
      "cell_type": "markdown",
      "source": "ONEvsALL",
      "metadata": {}
    },
    {
      "id": "3d44dda0-8ac4-49ba-9f24-ce2784618a60",
      "cell_type": "code",
      "source": "class OneVsAllClassifier:\n    def __init__(self, lr=0.1, max_iter=1000, batch_size=32):\n        self.lr = lr\n        self.max_iter = max_iter\n        self.batch_size = batch_size\n        self.classifiers = {}\n        self.classes = None\n\n    def fit(self, X, y):\n        self.classes = np.unique(y)\n        for cls in self.classes:\n            y_binary = (y == cls).astype(int)\n            clf = LogisticRegBinaryMiniBatch(lr=self.lr, max_iter=self.max_iter, batch_size=self.batch_size)\n            clf.fit(X, y_binary)\n            self.classifiers[cls] = clf\n\n    def predict(self, X):\n        probs = []\n        for cls in self.classes:\n            clf = self.classifiers[cls]\n            prob = clf.predict_proba(X)\n            probs.append(prob)\n        probs = np.array(probs).T\n        return self.classes[np.argmax(probs, axis=1)]\n",
      "metadata": {
        "trusted": true
      },
      "outputs": [],
      "execution_count": 8
    },
    {
      "id": "51125b4c-34ba-432a-9dd5-cb17b00ac471",
      "cell_type": "code",
      "source": "import numpy as np\nimport matplotlib.pyplot as plt\n\n# Treinar e testar\nova = OneVsAllClassifier(lr=0.5, max_iter=1000,batch_size=32)\nova.fit(BD, y)\ny_pred = ova.predict(X)\n\nprint(\"Valores preditos:\", y_pred)\n\n\nplot_decision_boundaries(BD, y, ova, title=\"ECOC Classifier Decision Boundaries\")",
      "metadata": {
        "trusted": true
      },
      "outputs": [
        {
          "ename": "<class 'NameError'>",
          "evalue": "name 'OneVsAllClassifier' is not defined",
          "traceback": [
            "\u001b[0;31m---------------------------------------------------------------------------\u001b[0m",
            "\u001b[0;31mNameError\u001b[0m                                 Traceback (most recent call last)",
            "Cell \u001b[0;32mIn[2], line 5\u001b[0m\n\u001b[1;32m      2\u001b[0m \u001b[38;5;28;01mimport\u001b[39;00m \u001b[38;5;21;01mmatplotlib\u001b[39;00m\u001b[38;5;21;01m.\u001b[39;00m\u001b[38;5;21;01mpyplot\u001b[39;00m \u001b[38;5;28;01mas\u001b[39;00m \u001b[38;5;21;01mplt\u001b[39;00m\n\u001b[1;32m      4\u001b[0m \u001b[38;5;66;03m# Treinar e testar\u001b[39;00m\n\u001b[0;32m----> 5\u001b[0m ova \u001b[38;5;241m=\u001b[39m \u001b[43mOneVsAllClassifier\u001b[49m(lr\u001b[38;5;241m=\u001b[39m\u001b[38;5;241m0.5\u001b[39m, max_iter\u001b[38;5;241m=\u001b[39m\u001b[38;5;241m1000\u001b[39m,batch_size\u001b[38;5;241m=\u001b[39m\u001b[38;5;241m32\u001b[39m)\n\u001b[1;32m      6\u001b[0m ova\u001b[38;5;241m.\u001b[39mfit(BD, y)\n\u001b[1;32m      7\u001b[0m y_pred \u001b[38;5;241m=\u001b[39m ova\u001b[38;5;241m.\u001b[39mpredict(X)\n",
            "\u001b[0;31mNameError\u001b[0m: name 'OneVsAllClassifier' is not defined"
          ],
          "output_type": "error"
        }
      ],
      "execution_count": 2
    },
    {
      "id": "a126963c-660f-4afa-ad3e-a74da54054a1",
      "cell_type": "markdown",
      "source": "MINI BATCH SIZE 1\n",
      "metadata": {}
    },
    {
      "id": "8cba4ac5-29b1-4e5c-86a9-fdb8cf4b11b3",
      "cell_type": "code",
      "source": "import numpy as np\n\nclass LogisticRegBinaryMB1:\n    def __init__(self, lr=0.1, max_iter=1000, batch_size=32):\n        self.lr = lr\n        self.max_iter = max_iter\n        self.batch_size = batch_size\n        self.w = None\n        self.b = None\n\n    def sigmoid(self, z):\n        return 1 / (1 + np.exp(-z))\n        \n    def fit(self, X, y):                            # Retirar random \n        n_samples, n_features = X.shape\n        self.w = np.zeros(n_features)\n        self.b = 0\n\n        for _ in range(self.max_iter):\n            for i in range(n_samples): \n                x_i = X[i].reshape(1, -1)\n                y_i = y[i]\n    \n                linear = np.dot(x_i, self.w) + self.b\n                prediction = self.sigmoid(linear)\n    \n                dw = (prediction - y_i) * x_i\n                db = (prediction - y_i)\n    \n                self.w -= self.lr * dw.flatten()\n                self.b -= self.lr * db\n\n    \n    def predict_proba(self, X):\n        linear = np.dot(X, self.w) + self.b\n        return self.sigmoid(linear)\n\n    def predict(self, X):\n        return (self.predict_proba(X) >= 0.5).astype(int)\n",
      "metadata": {
        "trusted": true
      },
      "outputs": [],
      "execution_count": 2
    },
    {
      "id": "92c2f429-f7b1-48b3-ba83-92b388a8e4bc",
      "cell_type": "code",
      "source": "class ECOCClassifierMB1:\n    def __init__(self, code_matrix, lr=0.1, max_iter=100, batch_size=16):\n        self.code_matrix = code_matrix\n        self.lr = lr\n        self.max_iter = max_iter\n        self.batch_size = batch_size\n        self.classifiers = []\n\n    def fit(self, X, y):\n        n_classes, n_codes = self.code_matrix.shape\n        self.classifiers = []\n\n        for col in range(n_codes):\n            binary_labels = np.array([self.code_matrix[label, col] for label in y])\n            clf = LogisticRegBinaryMB1(lr=self.lr, max_iter=self.max_iter, batch_size=self.batch_size)\n            clf.fit(X, binary_labels)\n            self.classifiers.append(clf)\n\n    def predict(self, X):\n        predictions = []\n        for clf in self.classifiers:\n            pred = clf.predict(X)\n            predictions.append(pred)\n        predictions = np.array(predictions).T  # shape: (n_samples, n_codes)\n\n        final_preds = []\n        for row in predictions:\n            distances = [np.sum(row != code) for code in self.code_matrix]\n            final_preds.append(np.argmin(distances))\n        return final_preds\n",
      "metadata": {
        "trusted": true
      },
      "outputs": [],
      "execution_count": 3
    },
    {
      "id": "bc037f88-8511-447a-a10c-dbdafc40a595",
      "cell_type": "code",
      "source": "import numpy as np\nimport matplotlib.pyplot as plt\n\ncode_matrix = np.array([\n    [0,  1,  1],\n    [ 1, 0,  1],\n    [ 1,  1, 0]\n])\n\necoc = ECOCClassifierMB1(code_matrix, lr=0.1, max_iter=15000, batch_size=25)\n\n# Train\necoc.fit(BD, y)\n\n# Predict\ny_pred = ecoc.predict(X)\npreds = [int(x) for x in y_pred]\nprint(\"Valores preditos:\", preds)\n\nplot_decision_boundaries(BD, y, ecoc, title=\"ECOC Classifier Decision Boundaries\")",
      "metadata": {
        "trusted": true
      },
      "outputs": [],
      "execution_count": null
    },
    {
      "id": "8e7dd626-ae92-482e-83ca-5013a681c7ee",
      "cell_type": "code",
      "source": "",
      "metadata": {
        "trusted": true
      },
      "outputs": [],
      "execution_count": null
    }
  ]
}